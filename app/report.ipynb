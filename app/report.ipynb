{
 "cells": [
  {
   "cell_type": "code",
   "execution_count": 1,
   "metadata": {},
   "outputs": [],
   "source": [
    "from inverted_index import InvertedIndex\n",
    "from compressed_index import CompressedIndex\n",
    "from document import  Document"
   ]
  },
  {
   "cell_type": "code",
   "execution_count": 2,
   "metadata": {},
   "outputs": [],
   "source": [
    "inverted_index = InvertedIndex()"
   ]
  },
  {
   "cell_type": "code",
   "execution_count": 3,
   "metadata": {},
   "outputs": [
    {
     "name": "stdout",
     "output_type": "stream",
     "text": [
      "CPU times: user 22min 2s, sys: 1min, total: 23min 3s\n",
      "Wall time: 23min 5s\n"
     ]
    }
   ],
   "source": [
    "%%time\n",
    "collection_size = 40000\n",
    "inverted_index.index_documents(collection_size)"
   ]
  },
  {
   "cell_type": "code",
   "execution_count": 3,
   "metadata": {},
   "outputs": [],
   "source": [
    "inverted_index.load_data()"
   ]
  },
  {
   "cell_type": "code",
   "execution_count": 4,
   "metadata": {},
   "outputs": [
    {
     "name": "stdout",
     "output_type": "stream",
     "text": [
      "CPU times: user 333 ms, sys: 11.6 ms, total: 345 ms\n",
      "Wall time: 354 ms\n"
     ]
    }
   ],
   "source": [
    "%%time\n",
    "for _ in range(100):\n",
    "    inverted_index.search('ректор спбгу / мгу')"
   ]
  },
  {
   "cell_type": "code",
   "execution_count": 5,
   "metadata": {},
   "outputs": [],
   "source": [
    "res = inverted_index.search('ректор спбгу / мгу')"
   ]
  },
  {
   "cell_type": "code",
   "execution_count": 6,
   "metadata": {},
   "outputs": [
    {
     "data": {
      "text/html": [
       "<div>\n",
       "<style scoped>\n",
       "    .dataframe tbody tr th:only-of-type {\n",
       "        vertical-align: middle;\n",
       "    }\n",
       "\n",
       "    .dataframe tbody tr th {\n",
       "        vertical-align: top;\n",
       "    }\n",
       "\n",
       "    .dataframe thead th {\n",
       "        text-align: right;\n",
       "    }\n",
       "</style>\n",
       "<table border=\"1\" class=\"dataframe\">\n",
       "  <thead>\n",
       "    <tr style=\"text-align: right;\">\n",
       "      <th></th>\n",
       "      <th>id</th>\n",
       "      <th>content</th>\n",
       "    </tr>\n",
       "  </thead>\n",
       "  <tbody>\n",
       "    <tr>\n",
       "      <th>0</th>\n",
       "      <td>8</td>\n",
       "      <td>III Международный форум \"РОССИЯ И КИТАЙ \\nВ МЕ...</td>\n",
       "    </tr>\n",
       "    <tr>\n",
       "      <th>1</th>\n",
       "      <td>20</td>\n",
       "      <td>Всероссийский форум студенческих спортивных кл...</td>\n",
       "    </tr>\n",
       "    <tr>\n",
       "      <th>2</th>\n",
       "      <td>39970</td>\n",
       "      <td>В [club153035520|гимназии № 642] \"Земля и Всел...</td>\n",
       "    </tr>\n",
       "    <tr>\n",
       "      <th>3</th>\n",
       "      <td>40187</td>\n",
       "      <td>ЕСТЬ У НАС СОМНЕНИЕ...\\nК постоянно читаемой м...</td>\n",
       "    </tr>\n",
       "    <tr>\n",
       "      <th>4</th>\n",
       "      <td>40011</td>\n",
       "      <td>⚡ Налог на @all \\n\\nПриказом ректора СПбГУ Н. ...</td>\n",
       "    </tr>\n",
       "    <tr>\n",
       "      <th>...</th>\n",
       "      <td>...</td>\n",
       "      <td>...</td>\n",
       "    </tr>\n",
       "    <tr>\n",
       "      <th>584</th>\n",
       "      <td>78697</td>\n",
       "      <td>Давным -давно, академик Юрий Викторович Наточи...</td>\n",
       "    </tr>\n",
       "    <tr>\n",
       "      <th>585</th>\n",
       "      <td>78889</td>\n",
       "      <td>Ректор СПбГУ Николай Кропачев рассказал телегр...</td>\n",
       "    </tr>\n",
       "    <tr>\n",
       "      <th>586</th>\n",
       "      <td>79342</td>\n",
       "      <td>ОТКРЫТО (проверяйте, пожалуйста) \\n(а сегодняш...</td>\n",
       "    </tr>\n",
       "    <tr>\n",
       "      <th>587</th>\n",
       "      <td>79583</td>\n",
       "      <td>Марина Юрьевна Лаврикова, исполнительный дирек...</td>\n",
       "    </tr>\n",
       "    <tr>\n",
       "      <th>588</th>\n",
       "      <td>79808</td>\n",
       "      <td>ОТКРЫТО (проверяйте, пожалуйста) \\n(а сегодняш...</td>\n",
       "    </tr>\n",
       "  </tbody>\n",
       "</table>\n",
       "<p>589 rows × 2 columns</p>\n",
       "</div>"
      ],
      "text/plain": [
       "        id                                            content\n",
       "0        8  III Международный форум \"РОССИЯ И КИТАЙ \\nВ МЕ...\n",
       "1       20  Всероссийский форум студенческих спортивных кл...\n",
       "2    39970  В [club153035520|гимназии № 642] \"Земля и Всел...\n",
       "3    40187  ЕСТЬ У НАС СОМНЕНИЕ...\\nК постоянно читаемой м...\n",
       "4    40011  ⚡ Налог на @all \\n\\nПриказом ректора СПбГУ Н. ...\n",
       "..     ...                                                ...\n",
       "584  78697  Давным -давно, академик Юрий Викторович Наточи...\n",
       "585  78889  Ректор СПбГУ Николай Кропачев рассказал телегр...\n",
       "586  79342  ОТКРЫТО (проверяйте, пожалуйста) \\n(а сегодняш...\n",
       "587  79583  Марина Юрьевна Лаврикова, исполнительный дирек...\n",
       "588  79808  ОТКРЫТО (проверяйте, пожалуйста) \\n(а сегодняш...\n",
       "\n",
       "[589 rows x 2 columns]"
      ]
     },
     "execution_count": 6,
     "metadata": {},
     "output_type": "execute_result"
    }
   ],
   "source": [
    "doc_ids = set(res['ректор']) & (set(res['спбгу']) | set(res['мгу']))\n",
    "Document.find_by_ids(doc_ids)"
   ]
  },
  {
   "cell_type": "code",
   "execution_count": 7,
   "metadata": {},
   "outputs": [],
   "source": [
    "delta = CompressedIndex('delta')\n",
    "delta.load_or_create(inverted_index.index)"
   ]
  },
  {
   "cell_type": "code",
   "execution_count": 9,
   "metadata": {},
   "outputs": [
    {
     "name": "stdout",
     "output_type": "stream",
     "text": [
      "CPU times: user 4.14 s, sys: 11.8 ms, total: 4.15 s\n",
      "Wall time: 4.15 s\n"
     ]
    }
   ],
   "source": [
    "%%time\n",
    "for _ in range(100):\n",
    "    delta.search('ректор спбгу / мгу')"
   ]
  },
  {
   "cell_type": "code",
   "execution_count": 10,
   "metadata": {},
   "outputs": [],
   "source": [
    "res = delta.search('ректор спбгу / мгу')"
   ]
  },
  {
   "cell_type": "code",
   "execution_count": 11,
   "metadata": {},
   "outputs": [
    {
     "data": {
      "text/html": [
       "<div>\n",
       "<style scoped>\n",
       "    .dataframe tbody tr th:only-of-type {\n",
       "        vertical-align: middle;\n",
       "    }\n",
       "\n",
       "    .dataframe tbody tr th {\n",
       "        vertical-align: top;\n",
       "    }\n",
       "\n",
       "    .dataframe thead th {\n",
       "        text-align: right;\n",
       "    }\n",
       "</style>\n",
       "<table border=\"1\" class=\"dataframe\">\n",
       "  <thead>\n",
       "    <tr style=\"text-align: right;\">\n",
       "      <th></th>\n",
       "      <th>id</th>\n",
       "      <th>content</th>\n",
       "    </tr>\n",
       "  </thead>\n",
       "  <tbody>\n",
       "    <tr>\n",
       "      <th>0</th>\n",
       "      <td>8</td>\n",
       "      <td>III Международный форум \"РОССИЯ И КИТАЙ \\nВ МЕ...</td>\n",
       "    </tr>\n",
       "    <tr>\n",
       "      <th>1</th>\n",
       "      <td>20</td>\n",
       "      <td>Всероссийский форум студенческих спортивных кл...</td>\n",
       "    </tr>\n",
       "    <tr>\n",
       "      <th>2</th>\n",
       "      <td>40011</td>\n",
       "      <td>⚡ Налог на @all \\n\\nПриказом ректора СПбГУ Н. ...</td>\n",
       "    </tr>\n",
       "    <tr>\n",
       "      <th>3</th>\n",
       "      <td>39970</td>\n",
       "      <td>В [club153035520|гимназии № 642] \"Земля и Всел...</td>\n",
       "    </tr>\n",
       "    <tr>\n",
       "      <th>4</th>\n",
       "      <td>40187</td>\n",
       "      <td>ЕСТЬ У НАС СОМНЕНИЕ...\\nК постоянно читаемой м...</td>\n",
       "    </tr>\n",
       "    <tr>\n",
       "      <th>...</th>\n",
       "      <td>...</td>\n",
       "      <td>...</td>\n",
       "    </tr>\n",
       "    <tr>\n",
       "      <th>584</th>\n",
       "      <td>78889</td>\n",
       "      <td>Ректор СПбГУ Николай Кропачев рассказал телегр...</td>\n",
       "    </tr>\n",
       "    <tr>\n",
       "      <th>585</th>\n",
       "      <td>78697</td>\n",
       "      <td>Давным -давно, академик Юрий Викторович Наточи...</td>\n",
       "    </tr>\n",
       "    <tr>\n",
       "      <th>586</th>\n",
       "      <td>79342</td>\n",
       "      <td>ОТКРЫТО (проверяйте, пожалуйста) \\n(а сегодняш...</td>\n",
       "    </tr>\n",
       "    <tr>\n",
       "      <th>587</th>\n",
       "      <td>79808</td>\n",
       "      <td>ОТКРЫТО (проверяйте, пожалуйста) \\n(а сегодняш...</td>\n",
       "    </tr>\n",
       "    <tr>\n",
       "      <th>588</th>\n",
       "      <td>79583</td>\n",
       "      <td>Марина Юрьевна Лаврикова, исполнительный дирек...</td>\n",
       "    </tr>\n",
       "  </tbody>\n",
       "</table>\n",
       "<p>589 rows × 2 columns</p>\n",
       "</div>"
      ],
      "text/plain": [
       "        id                                            content\n",
       "0        8  III Международный форум \"РОССИЯ И КИТАЙ \\nВ МЕ...\n",
       "1       20  Всероссийский форум студенческих спортивных кл...\n",
       "2    40011  ⚡ Налог на @all \\n\\nПриказом ректора СПбГУ Н. ...\n",
       "3    39970  В [club153035520|гимназии № 642] \"Земля и Всел...\n",
       "4    40187  ЕСТЬ У НАС СОМНЕНИЕ...\\nК постоянно читаемой м...\n",
       "..     ...                                                ...\n",
       "584  78889  Ректор СПбГУ Николай Кропачев рассказал телегр...\n",
       "585  78697  Давным -давно, академик Юрий Викторович Наточи...\n",
       "586  79342  ОТКРЫТО (проверяйте, пожалуйста) \\n(а сегодняш...\n",
       "587  79808  ОТКРЫТО (проверяйте, пожалуйста) \\n(а сегодняш...\n",
       "588  79583  Марина Юрьевна Лаврикова, исполнительный дирек...\n",
       "\n",
       "[589 rows x 2 columns]"
      ]
     },
     "execution_count": 11,
     "metadata": {},
     "output_type": "execute_result"
    }
   ],
   "source": [
    "doc_ids = set(res['ректор']) & (set(res['спбгу']) | set(res['мгу']))\n",
    "Document.find_by_ids(doc_ids)"
   ]
  },
  {
   "cell_type": "code",
   "execution_count": 12,
   "metadata": {},
   "outputs": [],
   "source": [
    "gamma = CompressedIndex('gamma')\n",
    "gamma.load_or_create(inverted_index.index)"
   ]
  },
  {
   "cell_type": "code",
   "execution_count": 13,
   "metadata": {},
   "outputs": [
    {
     "name": "stdout",
     "output_type": "stream",
     "text": [
      "CPU times: user 4.57 s, sys: 83.9 ms, total: 4.65 s\n",
      "Wall time: 4.68 s\n"
     ]
    }
   ],
   "source": [
    "%%time\n",
    "for _ in range(100):\n",
    "    gamma.search('ректор спбгу / мгу')"
   ]
  },
  {
   "cell_type": "code",
   "execution_count": 14,
   "metadata": {},
   "outputs": [],
   "source": [
    "res = gamma.search('ректор спбгу / мгу')"
   ]
  },
  {
   "cell_type": "code",
   "execution_count": 15,
   "metadata": {},
   "outputs": [
    {
     "data": {
      "text/html": [
       "<div>\n",
       "<style scoped>\n",
       "    .dataframe tbody tr th:only-of-type {\n",
       "        vertical-align: middle;\n",
       "    }\n",
       "\n",
       "    .dataframe tbody tr th {\n",
       "        vertical-align: top;\n",
       "    }\n",
       "\n",
       "    .dataframe thead th {\n",
       "        text-align: right;\n",
       "    }\n",
       "</style>\n",
       "<table border=\"1\" class=\"dataframe\">\n",
       "  <thead>\n",
       "    <tr style=\"text-align: right;\">\n",
       "      <th></th>\n",
       "      <th>id</th>\n",
       "      <th>content</th>\n",
       "    </tr>\n",
       "  </thead>\n",
       "  <tbody>\n",
       "    <tr>\n",
       "      <th>0</th>\n",
       "      <td>8</td>\n",
       "      <td>III Международный форум \"РОССИЯ И КИТАЙ \\nВ МЕ...</td>\n",
       "    </tr>\n",
       "    <tr>\n",
       "      <th>1</th>\n",
       "      <td>20</td>\n",
       "      <td>Всероссийский форум студенческих спортивных кл...</td>\n",
       "    </tr>\n",
       "    <tr>\n",
       "      <th>2</th>\n",
       "      <td>40150</td>\n",
       "      <td>ПРИРОДА КОРРУПЦИИ И КОРРУПЦИЯ В ОХРАНЕ ПРИРОДЫ...</td>\n",
       "    </tr>\n",
       "    <tr>\n",
       "      <th>3</th>\n",
       "      <td>39970</td>\n",
       "      <td>В [club153035520|гимназии № 642] \"Земля и Всел...</td>\n",
       "    </tr>\n",
       "    <tr>\n",
       "      <th>4</th>\n",
       "      <td>40011</td>\n",
       "      <td>⚡ Налог на @all \\n\\nПриказом ректора СПбГУ Н. ...</td>\n",
       "    </tr>\n",
       "    <tr>\n",
       "      <th>...</th>\n",
       "      <td>...</td>\n",
       "      <td>...</td>\n",
       "    </tr>\n",
       "    <tr>\n",
       "      <th>584</th>\n",
       "      <td>77804</td>\n",
       "      <td>#ЦитатыИНоЗаСПбГУ_новости \\n \\n📰Новости минувш...</td>\n",
       "    </tr>\n",
       "    <tr>\n",
       "      <th>585</th>\n",
       "      <td>79583</td>\n",
       "      <td>Марина Юрьевна Лаврикова, исполнительный дирек...</td>\n",
       "    </tr>\n",
       "    <tr>\n",
       "      <th>586</th>\n",
       "      <td>78889</td>\n",
       "      <td>Ректор СПбГУ Николай Кропачев рассказал телегр...</td>\n",
       "    </tr>\n",
       "    <tr>\n",
       "      <th>587</th>\n",
       "      <td>79342</td>\n",
       "      <td>ОТКРЫТО (проверяйте, пожалуйста) \\n(а сегодняш...</td>\n",
       "    </tr>\n",
       "    <tr>\n",
       "      <th>588</th>\n",
       "      <td>79808</td>\n",
       "      <td>ОТКРЫТО (проверяйте, пожалуйста) \\n(а сегодняш...</td>\n",
       "    </tr>\n",
       "  </tbody>\n",
       "</table>\n",
       "<p>589 rows × 2 columns</p>\n",
       "</div>"
      ],
      "text/plain": [
       "        id                                            content\n",
       "0        8  III Международный форум \"РОССИЯ И КИТАЙ \\nВ МЕ...\n",
       "1       20  Всероссийский форум студенческих спортивных кл...\n",
       "2    40150  ПРИРОДА КОРРУПЦИИ И КОРРУПЦИЯ В ОХРАНЕ ПРИРОДЫ...\n",
       "3    39970  В [club153035520|гимназии № 642] \"Земля и Всел...\n",
       "4    40011  ⚡ Налог на @all \\n\\nПриказом ректора СПбГУ Н. ...\n",
       "..     ...                                                ...\n",
       "584  77804  #ЦитатыИНоЗаСПбГУ_новости \\n \\n📰Новости минувш...\n",
       "585  79583  Марина Юрьевна Лаврикова, исполнительный дирек...\n",
       "586  78889  Ректор СПбГУ Николай Кропачев рассказал телегр...\n",
       "587  79342  ОТКРЫТО (проверяйте, пожалуйста) \\n(а сегодняш...\n",
       "588  79808  ОТКРЫТО (проверяйте, пожалуйста) \\n(а сегодняш...\n",
       "\n",
       "[589 rows x 2 columns]"
      ]
     },
     "execution_count": 15,
     "metadata": {},
     "output_type": "execute_result"
    }
   ],
   "source": [
    "doc_ids = set(res['ректор']) & (set(res['спбгу']) | set(res['мгу']))\n",
    "Document.find_by_ids(doc_ids)"
   ]
  },
  {
   "cell_type": "code",
   "execution_count": 16,
   "metadata": {},
   "outputs": [
    {
     "data": {
      "text/plain": [
       "'67.38180541992188 Mb'"
      ]
     },
     "execution_count": 16,
     "metadata": {},
     "output_type": "execute_result"
    }
   ],
   "source": [
    "inverted_index.size()"
   ]
  },
  {
   "cell_type": "code",
   "execution_count": 17,
   "metadata": {},
   "outputs": [
    {
     "data": {
      "text/plain": [
       "'22.029630661010742 Mb'"
      ]
     },
     "execution_count": 17,
     "metadata": {},
     "output_type": "execute_result"
    }
   ],
   "source": [
    "delta.size()"
   ]
  },
  {
   "cell_type": "code",
   "execution_count": 18,
   "metadata": {},
   "outputs": [
    {
     "data": {
      "text/plain": [
       "'24.369553565979004 Mb'"
      ]
     },
     "execution_count": 18,
     "metadata": {},
     "output_type": "execute_result"
    }
   ],
   "source": [
    "gamma.size()"
   ]
  }
 ],
 "metadata": {
  "kernelspec": {
   "display_name": "Python 3.9.12 ('base')",
   "language": "python",
   "name": "python3"
  },
  "language_info": {
   "codemirror_mode": {
    "name": "ipython",
    "version": 3
   },
   "file_extension": ".py",
   "mimetype": "text/x-python",
   "name": "python",
   "nbconvert_exporter": "python",
   "pygments_lexer": "ipython3",
   "version": "3.9.12"
  },
  "orig_nbformat": 4,
  "vscode": {
   "interpreter": {
    "hash": "1448b48b023bcc9c3d4a79e814720a10ca6d4244f75e0f7ce4af58f96ba2b7d3"
   }
  }
 },
 "nbformat": 4,
 "nbformat_minor": 2
}
